{
 "cells": [
  {
   "cell_type": "markdown",
   "metadata": {},
   "source": [
    "## Example Experiment:  I-V sweeps at different temperatures\n",
    "\n",
    "The following code shows an example of a heating and biasing experiment.\n",
    "This experiment follows these steps:\n",
    "\n",
    "1. Set a temperature in the temperatures list\n",
    "2. Wait until the measured temperature has reached the setpoint within 1 degree\n",
    "3. Start a Voltage sweep (dual) and plot the I-V curve in real-time\n",
    "4. Set the next temperature in the temperatures list and continue from point 2 until all temperatures have been set. \n",
    "\n",
    "Before running this experiment, start a __Heating__ and __Biasing (source mode: Voltage)__ experiment in Impulse."
   ]
  },
  {
   "cell_type": "code",
   "execution_count": 1,
   "metadata": {},
   "outputs": [
    {
     "name": "stdout",
     "output_type": "stream",
     "text": [
      "Subscribed to impulse events\n",
      "Subscribed to heat data\n",
      "Subscribed to bias data\n",
      "[IMPULSE STATUS]: control\n"
     ]
    }
   ],
   "source": [
    "# Import our libraries\n",
    "import impulsePy as impulse\n",
    "import numpy as np\n",
    "from time import sleep\n",
    "import matplotlib.pyplot as plt\n",
    "\n",
    "# The line below opens the graph in a separate window (required for live updating)\n",
    "%matplotlib qt\n",
    "\n",
    "# Subscribe to data and event streams\n",
    "impulse.heat.data.subscribe()\n",
    "impulse.bias.data.subscribe()\n",
    "\n",
    "impulse.waitForControl() # Wait until impulse is in control mode\n",
    "sleep(2) # Wait for some data to come in"
   ]
  },
  {
   "cell_type": "code",
   "execution_count": 2,
   "metadata": {
    "scrolled": true
   },
   "outputs": [
    {
     "name": "stdout",
     "output_type": "stream",
     "text": [
      "Setting the temperature to 100 degrees\n",
      "Waiting for temperatureMeasured to reach 100 within 1 degree\n",
      "Temperature 100 reached, starting sweep...\n",
      "Sweep finished.\n",
      "Setting the temperature to 200 degrees\n",
      "Waiting for temperatureMeasured to reach 200 within 1 degree\n",
      "Temperature 200 reached, starting sweep...\n",
      "Sweep finished.\n"
     ]
    }
   ],
   "source": [
    "# Create graph window\n",
    "fig = plt.figure()\n",
    "fig.canvas.set_window_title('I-V sweep')\n",
    "ax = fig.add_subplot(111)\n",
    "ax.set_xlabel(\"Voltage (V)\")\n",
    "ax.set_ylabel(\"Current (A)\")\n",
    "plt.ion()\n",
    "plt.show()\n",
    "\n",
    "# Experiment parameters\n",
    "temperatures = [100, 200] #C\n",
    "startVoltage = -10\n",
    "stopVoltage = 10\n",
    "voltageSteps = 20\n",
    "compliance = 1E-2 #A\n",
    "\n",
    "voltageSetpoints = np.linspace(startVoltage, stopVoltage, voltageSteps) # Create a list of voltage setpoints\n",
    "voltageSetpoints = np.append(voltageSetpoints,np.flipud(voltageSetpoints),axis=0) # Add the reversed list to the end for the sweep down\n",
    "\n",
    "plt.axhline(y=compliance, color='r', linestyle='--', label=\"Compliance\") # Add compliance to the graph as a dotted line\n",
    "\n",
    "# Experiment code\n",
    "for temperature in temperatures:\n",
    "    print(f\"Setting the temperature to {temperature} degrees\")\n",
    "    impulse.heat.set(temperature)\n",
    "    print(f\"Waiting for temperatureMeasured to reach {temperature} within 1 degree\")\n",
    "    while abs(impulse.heat.data.getNewData()[\"temperatureMeasured\"]-temperature)>1: # While the temperature is not met (within 1 degree)\n",
    "        sleep(0.1) # Wait for 0.1 seconds\n",
    "    print(f\"Temperature {temperature} reached, starting sweep...\")\n",
    "    impulse.bias.data.setFlag(f\"T{temperature}\") # Add a flag to the bias data to be able to recall this cycle later on\n",
    "    datx=[] # Create an empty list for the x data\n",
    "    daty=[] # Create an empty list for the y data\n",
    "    Ln, = ax.plot(datx,daty,label=f\"T{temperature}\") # Add a new plot to the graph with the temperature as the label\n",
    "    plt.legend() # Tell the plot to include a legend\n",
    "    impulse.bias.data.getNewData() # This is to make sure that the next time we ask for NewData we are getting data from after the first voltage setpoint\n",
    "    for voltage in voltageSetpoints: # Go through all the setpoints for the voltage sweep\n",
    "        impulse.bias.set(voltage,compliance)\n",
    "        measurement = impulse.bias.data.getNewData()\n",
    "        datx.append(measurement[\"voltageMeasured\"])\n",
    "        daty.append(measurement[\"currentMeasured\"])\n",
    "        Ln.set_ydata(daty)\n",
    "        Ln.set_xdata(datx)\n",
    "        ax.relim()\n",
    "        ax.autoscale_view()\n",
    "        plt.pause(0.01)\n",
    "    print(\"Sweep finished.\")\n",
    "        \n",
    "impulse.bias.set(0,compliance) # Set the voltage back to 0\n",
    "impulse.bias.data.setFlag(\"\") # Set the bias data flag to nothing"
   ]
  },
  {
   "cell_type": "code",
   "execution_count": 3,
   "metadata": {},
   "outputs": [
    {
     "name": "stdout",
     "output_type": "stream",
     "text": [
      "Disconnected from impulse\n"
     ]
    }
   ],
   "source": [
    "impulse.disconnect() # Disconnect from Impulse"
   ]
  },
  {
   "cell_type": "code",
   "execution_count": null,
   "metadata": {},
   "outputs": [],
   "source": []
  }
 ],
 "metadata": {
  "kernelspec": {
   "display_name": "Python 3",
   "language": "python",
   "name": "python3"
  },
  "language_info": {
   "codemirror_mode": {
    "name": "ipython",
    "version": 3
   },
   "file_extension": ".py",
   "mimetype": "text/x-python",
   "name": "python",
   "nbconvert_exporter": "python",
   "pygments_lexer": "ipython3",
   "version": "3.9.1"
  }
 },
 "nbformat": 4,
 "nbformat_minor": 4
}
